{
 "cells": [
  {
   "cell_type": "code",
   "execution_count": 2,
   "metadata": {},
   "outputs": [],
   "source": [
    "import requests\n",
    "import re\n",
    "from bs4 import BeautifulSoup as bs\n",
    "import numpy as np\n",
    "import pandas as pd\n",
    "import logging\n",
    "\n",
    "data = pd.DataFrame({\n",
    "    'URL': [],\n",
    "    'tel': [],\n",
    "    'mail': []\n",
    "})\n"
   ]
  },
  {
   "cell_type": "code",
   "execution_count": 3,
   "metadata": {},
   "outputs": [],
   "source": [
    "URL = 'https://c-ns.ru'\n",
    "\n",
    "PHONE_PATTERNS = [\n",
    "    r'\\+\\d{11}',\n",
    "    r'(\\d{4}) \\d{3}-\\d{3}',\n",
    "    r'\\+\\d-\\d{3}-\\d{3}-\\d{4}',\n",
    "    r'\\+\\d \\d{3} \\d{3} \\d{2} \\d{2}'\n",
    "    \n",
    "]\n",
    "\n"
   ]
  },
  {
   "cell_type": "code",
   "execution_count": 4,
   "metadata": {},
   "outputs": [],
   "source": [
    "def extract_mail(line):\n",
    "    match = re.search(r'[\\w.+-]+@[\\w-]+\\.[\\w.-]+', line)\n",
    "    return match.group(0)\n",
    "\n",
    "def get_phone_numbers(line):\n",
    "    global PHONE_PATTERNS\n",
    "    for pattern in PHONE_PATTERNS:\n",
    "        if len(re.findall(pattern, line)) > 0:\n",
    "            return np.unique(re.findall(pattern, line))\n",
    "        \n",
    "\n",
    "def get_mails(text):\n",
    "    if '@' in text:\n",
    "        try:\n",
    "            return extract_mail(text)\n",
    "        except:\n",
    "            pass\n",
    "        "
   ]
  },
  {
   "attachments": {},
   "cell_type": "markdown",
   "metadata": {},
   "source": [
    "If information on the page"
   ]
  },
  {
   "cell_type": "code",
   "execution_count": 5,
   "metadata": {},
   "outputs": [
    {
     "data": {
      "text/plain": [
       "0                  https://1470umto.ru\n",
       "1                    https://23city.ru\n",
       "2                 https://abc-sklad.ru\n",
       "3                 https://absrealty.ru\n",
       "4    https://aeroflotovec-2.landorg.ru\n",
       "Name: 0, dtype: object"
      ]
     },
     "execution_count": 5,
     "metadata": {},
     "output_type": "execute_result"
    }
   ],
   "source": [
    "urls = pd.read_csv('ready_domains.csv', header=None)\n",
    "urls = urls[urls.columns[0]]\n",
    "urls[:5]"
   ]
  },
  {
   "cell_type": "code",
   "execution_count": 6,
   "metadata": {},
   "outputs": [],
   "source": [
    "\n",
    "def parse_one_url(url):\n",
    "    req = requests.get(url)\n",
    "    soup = bs(req.text, 'html.parser')\n",
    "    texts = soup.find_all(text=True)\n",
    "    texts = u\" \".join(t.strip() for t in texts)\n",
    "    l = [URL, get_phone_numbers(texts), get_mails(texts)];\n",
    "    \n",
    "    return l"
   ]
  },
  {
   "cell_type": "code",
   "execution_count": 7,
   "metadata": {},
   "outputs": [
    {
     "data": {
      "text/plain": [
       "['https://c-ns.ru', array(['+7 812 610 00 55'], dtype='<U16'), 'info@c-ns.ru']"
      ]
     },
     "execution_count": 7,
     "metadata": {},
     "output_type": "execute_result"
    }
   ],
   "source": [
    "parse_one_url(URL)"
   ]
  },
  {
   "cell_type": "code",
   "execution_count": 15,
   "metadata": {},
   "outputs": [
    {
     "data": {
      "text/plain": [
       "[['https://c-ns.ru', None, 'info@1470umto.ru'],\n",
       " ['https://c-ns.ru', None, 'info@23city.ru'],\n",
       " ['https://c-ns.ru', array(['+79995550055'], dtype='<U12'), None],\n",
       " ['https://c-ns.ru',\n",
       "  array(['+74950237526', '+74951042537', '+74951252640', '+74951564273',\n",
       "         '+74951810529', '+74954320392', '+74957455533'], dtype='<U12'),\n",
       "  'u002F96b8b7066d2f4fc49867fc7b8ab981ee@sentry.idacloud.ru'],\n",
       " ['https://c-ns.ru', array(['+79625884609'], dtype='<U12'), 'snp.a-2@mail.ru'],\n",
       " ['https://c-ns.ru', None, None],\n",
       " ['https://c-ns.ru', None, 'akademicheskiy@kortros.ru'],\n",
       " ['https://c-ns.ru', None, None],\n",
       " ['https://c-ns.ru',\n",
       "  array(['+74951724469'], dtype='<U12'),\n",
       "  'info@alcontower.ru'],\n",
       " ['https://c-ns.ru', None, None]]"
      ]
     },
     "execution_count": 15,
     "metadata": {},
     "output_type": "execute_result"
    }
   ],
   "source": [
    "from multiprocessing import Pool\n",
    "\n",
    "# This thing is pretty fast\n",
    "with Pool(processes=32) as mp_pool:\n",
    "    result = mp_pool.map(parse_one_url, urls[:10])\n",
    "    \n",
    "result"
   ]
  },
  {
   "cell_type": "code",
   "execution_count": 21,
   "metadata": {},
   "outputs": [
    {
     "name": "stderr",
     "output_type": "stream",
     "text": [
      "/tmp/ipykernel_11762/1435031242.py:1: FutureWarning: Could not cast to float64, falling back to object. This behavior is deprecated. In a future version, when a dtype is passed to 'DataFrame', either all columns will be cast to that dtype, or a TypeError will be raised.\n",
      "  df = pd.DataFrame(result, columns =['url', 'tel', 'mail'], dtype = float)\n"
     ]
    },
    {
     "data": {
      "text/html": [
       "<div>\n",
       "<style scoped>\n",
       "    .dataframe tbody tr th:only-of-type {\n",
       "        vertical-align: middle;\n",
       "    }\n",
       "\n",
       "    .dataframe tbody tr th {\n",
       "        vertical-align: top;\n",
       "    }\n",
       "\n",
       "    .dataframe thead th {\n",
       "        text-align: right;\n",
       "    }\n",
       "</style>\n",
       "<table border=\"1\" class=\"dataframe\">\n",
       "  <thead>\n",
       "    <tr style=\"text-align: right;\">\n",
       "      <th></th>\n",
       "      <th>url</th>\n",
       "      <th>tel</th>\n",
       "      <th>mail</th>\n",
       "    </tr>\n",
       "  </thead>\n",
       "  <tbody>\n",
       "    <tr>\n",
       "      <th>0</th>\n",
       "      <td>https://c-ns.ru</td>\n",
       "      <td>None</td>\n",
       "      <td>info@1470umto.ru</td>\n",
       "    </tr>\n",
       "    <tr>\n",
       "      <th>1</th>\n",
       "      <td>https://c-ns.ru</td>\n",
       "      <td>None</td>\n",
       "      <td>info@23city.ru</td>\n",
       "    </tr>\n",
       "    <tr>\n",
       "      <th>2</th>\n",
       "      <td>https://c-ns.ru</td>\n",
       "      <td>[+79995550055]</td>\n",
       "      <td>None</td>\n",
       "    </tr>\n",
       "    <tr>\n",
       "      <th>3</th>\n",
       "      <td>https://c-ns.ru</td>\n",
       "      <td>[+74950237526, +74951042537, +74951252640, +74...</td>\n",
       "      <td>u002F96b8b7066d2f4fc49867fc7b8ab981ee@sentry.i...</td>\n",
       "    </tr>\n",
       "    <tr>\n",
       "      <th>4</th>\n",
       "      <td>https://c-ns.ru</td>\n",
       "      <td>[+79625884609]</td>\n",
       "      <td>snp.a-2@mail.ru</td>\n",
       "    </tr>\n",
       "    <tr>\n",
       "      <th>5</th>\n",
       "      <td>https://c-ns.ru</td>\n",
       "      <td>None</td>\n",
       "      <td>None</td>\n",
       "    </tr>\n",
       "    <tr>\n",
       "      <th>6</th>\n",
       "      <td>https://c-ns.ru</td>\n",
       "      <td>None</td>\n",
       "      <td>akademicheskiy@kortros.ru</td>\n",
       "    </tr>\n",
       "    <tr>\n",
       "      <th>7</th>\n",
       "      <td>https://c-ns.ru</td>\n",
       "      <td>None</td>\n",
       "      <td>None</td>\n",
       "    </tr>\n",
       "    <tr>\n",
       "      <th>8</th>\n",
       "      <td>https://c-ns.ru</td>\n",
       "      <td>[+74951724469]</td>\n",
       "      <td>info@alcontower.ru</td>\n",
       "    </tr>\n",
       "    <tr>\n",
       "      <th>9</th>\n",
       "      <td>https://c-ns.ru</td>\n",
       "      <td>None</td>\n",
       "      <td>None</td>\n",
       "    </tr>\n",
       "  </tbody>\n",
       "</table>\n",
       "</div>"
      ],
      "text/plain": [
       "               url                                                tel  \\\n",
       "0  https://c-ns.ru                                               None   \n",
       "1  https://c-ns.ru                                               None   \n",
       "2  https://c-ns.ru                                     [+79995550055]   \n",
       "3  https://c-ns.ru  [+74950237526, +74951042537, +74951252640, +74...   \n",
       "4  https://c-ns.ru                                     [+79625884609]   \n",
       "5  https://c-ns.ru                                               None   \n",
       "6  https://c-ns.ru                                               None   \n",
       "7  https://c-ns.ru                                               None   \n",
       "8  https://c-ns.ru                                     [+74951724469]   \n",
       "9  https://c-ns.ru                                               None   \n",
       "\n",
       "                                                mail  \n",
       "0                                   info@1470umto.ru  \n",
       "1                                     info@23city.ru  \n",
       "2                                               None  \n",
       "3  u002F96b8b7066d2f4fc49867fc7b8ab981ee@sentry.i...  \n",
       "4                                    snp.a-2@mail.ru  \n",
       "5                                               None  \n",
       "6                          akademicheskiy@kortros.ru  \n",
       "7                                               None  \n",
       "8                                 info@alcontower.ru  \n",
       "9                                               None  "
      ]
     },
     "execution_count": 21,
     "metadata": {},
     "output_type": "execute_result"
    }
   ],
   "source": [
    "df = pd.DataFrame(result, columns =['url', 'tel', 'mail'], dtype = float)\n",
    "df\n"
   ]
  },
  {
   "cell_type": "code",
   "execution_count": null,
   "metadata": {},
   "outputs": [],
   "source": []
  }
 ],
 "metadata": {
  "kernelspec": {
   "display_name": "Python 3",
   "language": "python",
   "name": "python3"
  },
  "language_info": {
   "codemirror_mode": {
    "name": "ipython",
    "version": 3
   },
   "file_extension": ".py",
   "mimetype": "text/x-python",
   "name": "python",
   "nbconvert_exporter": "python",
   "pygments_lexer": "ipython3",
   "version": "3.10.9"
  },
  "orig_nbformat": 4,
  "vscode": {
   "interpreter": {
    "hash": "e7370f93d1d0cde622a1f8e1c04877d8463912d04d973331ad4851f04de6915a"
   }
  }
 },
 "nbformat": 4,
 "nbformat_minor": 2
}
