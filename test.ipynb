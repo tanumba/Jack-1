{
 "cells": [
  {
   "attachments": {},
   "cell_type": "markdown",
   "metadata": {},
   "source": [
    "THIS IS TEST\n",
    "DO NOT CONDEMN\n",
    "just tried to preprocess data"
   ]
  },
  {
   "cell_type": "code",
   "execution_count": 1,
   "metadata": {},
   "outputs": [],
   "source": [
    "import pandas as pd\n",
    "import numpy as np\n",
    "import seaborn as sns"
   ]
  },
  {
   "cell_type": "code",
   "execution_count": 2,
   "metadata": {},
   "outputs": [
    {
     "data": {
      "text/html": [
       "<div>\n",
       "<style scoped>\n",
       "    .dataframe tbody tr th:only-of-type {\n",
       "        vertical-align: middle;\n",
       "    }\n",
       "\n",
       "    .dataframe tbody tr th {\n",
       "        vertical-align: top;\n",
       "    }\n",
       "\n",
       "    .dataframe thead th {\n",
       "        text-align: right;\n",
       "    }\n",
       "</style>\n",
       "<table border=\"1\" class=\"dataframe\">\n",
       "  <thead>\n",
       "    <tr style=\"text-align: right;\">\n",
       "      <th></th>\n",
       "      <th>domain</th>\n",
       "    </tr>\n",
       "  </thead>\n",
       "  <tbody>\n",
       "    <tr>\n",
       "      <th>0</th>\n",
       "      <td>vk.com/public174839173</td>\n",
       "    </tr>\n",
       "    <tr>\n",
       "      <th>1</th>\n",
       "      <td>t.me/tweed_realtyy</td>\n",
       "    </tr>\n",
       "    <tr>\n",
       "      <th>2</th>\n",
       "      <td>instagram.com/tweedrealty</td>\n",
       "    </tr>\n",
       "    <tr>\n",
       "      <th>3</th>\n",
       "      <td>twitter.com/tweedru</td>\n",
       "    </tr>\n",
       "    <tr>\n",
       "      <th>4</th>\n",
       "      <td>youtube.com/channel/uca1z9uco37tm_yp9fi49rfq</td>\n",
       "    </tr>\n",
       "    <tr>\n",
       "      <th>5</th>\n",
       "      <td>tweed.ru</td>\n",
       "    </tr>\n",
       "    <tr>\n",
       "      <th>6</th>\n",
       "      <td>facebook.com/tweed.ru</td>\n",
       "    </tr>\n",
       "    <tr>\n",
       "      <th>7</th>\n",
       "      <td>vk.com/tweed_realty</td>\n",
       "    </tr>\n",
       "    <tr>\n",
       "      <th>8</th>\n",
       "      <td>pskovzhilstroi.ru</td>\n",
       "    </tr>\n",
       "    <tr>\n",
       "      <th>9</th>\n",
       "      <td>vk.com/domapskov</td>\n",
       "    </tr>\n",
       "    <tr>\n",
       "      <th>10</th>\n",
       "      <td>youtube.com/channel/ucikgdrgnnh68rzrmbbes2vq</td>\n",
       "    </tr>\n",
       "    <tr>\n",
       "      <th>11</th>\n",
       "      <td>instagram.com/pskovzhilstroi</td>\n",
       "    </tr>\n",
       "    <tr>\n",
       "      <th>12</th>\n",
       "      <td>dogovor25.ru</td>\n",
       "    </tr>\n",
       "    <tr>\n",
       "      <th>13</th>\n",
       "      <td>instagram.com/tierra_moscow</td>\n",
       "    </tr>\n",
       "    <tr>\n",
       "      <th>14</th>\n",
       "      <td>tg77.ru</td>\n",
       "    </tr>\n",
       "    <tr>\n",
       "      <th>15</th>\n",
       "      <td>youtube.com/channel/uctfgf6tqejr6-s0uw29mlsa</td>\n",
       "    </tr>\n",
       "    <tr>\n",
       "      <th>16</th>\n",
       "      <td>%D0%BD%D0%B8%D0%B6%D0%BD%D0%B5%D0%BA%D0%B0%D0%...</td>\n",
       "    </tr>\n",
       "    <tr>\n",
       "      <th>17</th>\n",
       "      <td>capital-rf.com</td>\n",
       "    </tr>\n",
       "    <tr>\n",
       "      <th>18</th>\n",
       "      <td>facebook.com/%D0%B3%D0%BA-%D0%BA%D0%B0%D0%BF%D...</td>\n",
       "    </tr>\n",
       "    <tr>\n",
       "      <th>19</th>\n",
       "      <td>c-j.ru</td>\n",
       "    </tr>\n",
       "  </tbody>\n",
       "</table>\n",
       "</div>"
      ],
      "text/plain": [
       "                                               domain\n",
       "0                              vk.com/public174839173\n",
       "1                                  t.me/tweed_realtyy\n",
       "2                           instagram.com/tweedrealty\n",
       "3                                 twitter.com/tweedru\n",
       "4        youtube.com/channel/uca1z9uco37tm_yp9fi49rfq\n",
       "5                                            tweed.ru\n",
       "6                               facebook.com/tweed.ru\n",
       "7                                 vk.com/tweed_realty\n",
       "8                                   pskovzhilstroi.ru\n",
       "9                                    vk.com/domapskov\n",
       "10       youtube.com/channel/ucikgdrgnnh68rzrmbbes2vq\n",
       "11                       instagram.com/pskovzhilstroi\n",
       "12                                       dogovor25.ru\n",
       "13                        instagram.com/tierra_moscow\n",
       "14                                            tg77.ru\n",
       "15       youtube.com/channel/uctfgf6tqejr6-s0uw29mlsa\n",
       "16  %D0%BD%D0%B8%D0%B6%D0%BD%D0%B5%D0%BA%D0%B0%D0%...\n",
       "17                                     capital-rf.com\n",
       "18  facebook.com/%D0%B3%D0%BA-%D0%BA%D0%B0%D0%BF%D...\n",
       "19                                             c-j.ru"
      ]
     },
     "execution_count": 2,
     "metadata": {},
     "output_type": "execute_result"
    }
   ],
   "source": [
    "domains_df = pd.read_csv('/home/ostgot/Desktop/research/BIG_data/graph_thing/real_estate_domains.tsv', sep=('\\t'))\n",
    "domains_df.head(20)"
   ]
  },
  {
   "attachments": {},
   "cell_type": "markdown",
   "metadata": {},
   "source": [
    "Test sample is a sample of 1000 random urls from dataframe"
   ]
  },
  {
   "cell_type": "code",
   "execution_count": 3,
   "metadata": {},
   "outputs": [
    {
     "data": {
      "text/plain": [
       "14973    zao-donkpd.ru/ob-ekty/ob-ekty-zao-don-kpd/g-ro...\n",
       "29232                                  vk.com/borovoetomsk\n",
       "62471                                   vk.com/familia_dev\n",
       "2244                                   finance-partners.ru\n",
       "13553         youtube.com/channel/uctrki-fb2h6grgnpakys_7w\n",
       "Name: domain, dtype: object"
      ]
     },
     "execution_count": 3,
     "metadata": {},
     "output_type": "execute_result"
    }
   ],
   "source": [
    "test_domains = domains_df.sample(1000).domain\n",
    "test_domains[:5]"
   ]
  },
  {
   "cell_type": "code",
   "execution_count": 4,
   "metadata": {},
   "outputs": [
    {
     "data": {
      "text/plain": [
       "962"
      ]
     },
     "execution_count": 4,
     "metadata": {},
     "output_type": "execute_result"
    }
   ],
   "source": [
    "test_domains.nunique()"
   ]
  },
  {
   "cell_type": "code",
   "execution_count": 5,
   "metadata": {},
   "outputs": [],
   "source": [
    "# based on hand search :)\n",
    "bad_starts = 'instagram facebook linkedin twitter youtube vk t wa ok viber plus'.split()"
   ]
  },
  {
   "cell_type": "code",
   "execution_count": 6,
   "metadata": {},
   "outputs": [
    {
     "name": "stdout",
     "output_type": "stream",
     "text": [
      "445\n"
     ]
    }
   ],
   "source": [
    "def check_if_needless(url):\n",
    "    start = url.split('.')[0]\n",
    "    if start in bad_starts or '%' in start:\n",
    "        return None\n",
    "    else:\n",
    "        return url\n",
    "\n",
    "# TODO: multiprocess it\n",
    "processed_domains = test_domains.apply(check_if_needless).dropna()\n",
    "print(processed_domains.nunique())\n",
    "processed_domains.to_csv('processed_domains.csv')"
   ]
  },
  {
   "cell_type": "code",
   "execution_count": 8,
   "metadata": {},
   "outputs": [],
   "source": [
    "import requests\n",
    "\n",
    "def url_checker(url):\n",
    "    try:\n",
    "        url = 'https://'+url\n",
    "        get = requests.get(url)\n",
    "        if get.status_code == 200:\n",
    "            return url\n",
    "        else: \n",
    "            return ''\n",
    "    except:\n",
    "        # TODO: print exception type, it might help with analyzing\n",
    "        print(url + ' is bad')\n",
    "        return ''"
   ]
  },
  {
   "cell_type": "code",
   "execution_count": 9,
   "metadata": {},
   "outputs": [
    {
     "name": "stdout",
     "output_type": "stream",
     "text": [
      "https://zao-donkpd.ru/ob-ekty/ob-ekty-zao-don-kpd/g-rostov-na-donu-ul-dobrovolskogo-s-p-5-03a is bad\n",
      "https://rus-stanki.ru is bad\n",
      "https://zgic.ru is bad\n",
      "https://skup-hrp.ru is bad\n",
      "https://salemen.ru is bad\n",
      "https://nc35.ru/belyaeva3 is bad\n",
      "https://mayakural.com is bad\n",
      "https://snimisklad.ru/arenda/sklad/1869 is bad\n",
      "https://xxx-vek.ru/obgect.stroitelstvo is bad\n",
      "https://r34.rosinv.ru is bad\n",
      "https://luchdom.ru/?page_id=54 is bad\n",
      "https://spbrealty.ru is bad\n",
      "https://aemtech-iz.ru is bad\n",
      "https://edinst.ru is bad\n",
      "https://pn.ru is bad\n",
      "https://aisberg45.ru/proekty-nedvizhimosti is bad\n",
      "https://kurganselstroy.ru/doma is bad\n",
      "https://gksmu-krasnodar.ru/otdel-prodazh/386/opisanie is bad\n",
      "https://surgut.zdi.ru/projects/individual/8924/apartments is bad\n",
      "https://primcti.ru is bad\n",
      "https://zelklin.ru is bad\n",
      "https://grnw.itadev.ru/about is bad\n",
      "https://r36.rosinv.ru is bad\n",
      "https://green35.ru is bad\n",
      "https://kn-komandor.ru is bad\n",
      "https://btivrn.ru is bad\n",
      "https://tpsh.vbi-tambov.ru/emitent.htm is bad\n",
      "https://zhcom.ru/projects/vasilki is bad\n",
      "https://tolkachevcommerce.ru is bad\n",
      "https://grandfamilia.ru is bad\n",
      "https://ms-vp.ru is bad\n",
      "https://pgi.su/opisanie-zk-iuzhnyi is bad\n",
      "https://sntlms.ru is bad\n",
      "https://parkplaza.ru is bad\n",
      "https://rim72.com is bad\n",
      "https://strteh.com/projects/bogdana-knunyantsa is bad\n",
      "https://pzaliva.ru is bad\n",
      "https://зем-зем.рф is bad\n",
      "https://agestate.pro/rezidentsiya-park is bad\n",
      "https://gorbti.nnov.ru is bad\n",
      "https://realt-invest.ru/svetlogorsk is bad\n",
      "https://antarsib.ru is bad\n",
      "https://solnechnayadolina.ru is bad\n",
      "https://domvstaroselie.ru is bad\n",
      "https://stroyka-pz.ru/prj.php is bad\n",
      "https://nemirovicha-danchenko.mymetr.ru is bad\n",
      "https://slavich.ru is bad\n",
      "https://ridasib.com is bad\n",
      "https://oootechnolog.ru is bad\n",
      "https://ammis.ru is bad\n",
      "https://r08.rosinv.ru is bad\n",
      "https://zemform.ru/townships/dmitrovskie-dachi is bad\n",
      "https://stroyzapadnoe.ru/%D1%81%D1%82%D1%80%D0%BE%D1%8F%D1%89%D0%B8%D0%B5%D1%81%D1%8F-%D0%BE%D0%B1%D1%8A%D0%B5%D0%BA%D1%82%D1%8B-2 is bad\n",
      "https://suvar.ru is bad\n",
      "https://2025050.ru/info/construction is bad\n",
      "https://r48.rosinv.ru is bad\n",
      "https://ogni-kolpino.ru is bad\n",
      "https://2282000.ru is bad\n",
      "https://indigo-yalta.com is bad\n",
      "https://souzkomplekt.ru/len8.html is bad\n",
      "https://manptz.ru is bad\n",
      "https://rassvetnn.com is bad\n",
      "https://lu-prostor.ru is bad\n",
      "https://miard.ru is bad\n",
      "https://kp-tishkovo.ru is bad\n",
      "https://dostoevsky26.ru is bad\n",
      "https://urnedmm.ru is bad\n",
      "https://elion797.ru is bad\n",
      "https://roscap.ru is bad\n",
      "https://granelle.com is bad\n",
      "https://ik.land is bad\n",
      "https://прибрежный-жк.рф is bad\n",
      "https://zapad-inc.ru/object3 is bad\n",
      "https://e-kb.ru is bad\n",
      "https://ava-stroy.ru/obekty/novyj-aksaj is bad\n",
      "https://pn.ru is bad\n",
      "https://sta2000.ru is bad\n",
      "https://status-realty-evpatoria.ru is bad\n",
      "https://opskurgan.ru is bad\n",
      "https://3110505.ru is bad\n",
      "https://r50.rosinv.ru is bad\n",
      "https://tkos.ru/index.php/taunhaus/home1819 is bad\n",
      "https://textilgrad.ru is bad\n",
      "https://dom-u-nevskogo.mfcn78.ru is bad\n",
      "https://beit.su/vremena-goda is bad\n",
      "https://favorit28.ru is bad\n",
      "https://bsf32.ru/plan.html is bad\n",
      "https://dom2a.ru is bad\n",
      "https://kvartal-tver.ru/kimry-place.html is bad\n",
      "https://gradnov.ru is bad\n",
      "https://sps-volga.ru is bad\n",
      "https://usi23.ru/mikrorajon-panorama is bad\n",
      "https://fedino.land is bad\n",
      "https://sf-prospekt.ru/stroyashhiesya-obekty is bad\n",
      "https://speckat.ru is bad\n",
      "https://twocapitals.com is bad\n",
      "https://sm-sc.ru is bad\n",
      "https://plazadev.ru is bad\n",
      "https://zvnd.ru is bad\n",
      "https://rti.perm.ru is bad\n",
      "https://monolit.net is bad\n",
      "https://yalta-city.com is bad\n",
      "https://r15.rosinv.ru is bad\n",
      "https://gemerald.ru is bad\n",
      "https://tc-pushkinsky.ru is bad\n",
      "https://novosel93.ru is bad\n",
      "https://jsk-ng.ru/object?object_id=1 is bad\n",
      "https://sklik-kadastr.ru is bad\n",
      "https://pokrovles.ru is bad\n",
      "https://specsnab14.ru is bad\n",
      "https://spodkova.ru is bad\n",
      "https://gsz.su/spage.php?about_n1leningradskaya is bad\n",
      "https://sofrino-park.ru is bad\n",
      "https://sibmfc.ru is bad\n",
      "https://ingrad-realty.ru is bad\n",
      "https://nikboor.ru is bad\n",
      "https://r25.rosinv.ru is bad\n",
      "https://gk-park.ru is bad\n",
      "https://megazem.ru/poselok/rancho is bad\n",
      "https://korifey2010.ru is bad\n",
      "https://trest3rb.ru is bad\n",
      "https://club-home.com/clubhomes/%D0%B1%D0%B5%D0%BB%D1%8B%D0%B5-%D1%80%D0%BE%D1%81%D1%8B is bad\n",
      "https://web.facebook.com/fodyoworld is bad\n",
      "https://vkirove.com is bad\n",
      "https://ecoflamandia.ru is bad\n",
      "https://osttpm.ru is bad\n",
      "https://bauma-service.ru is bad\n",
      "https://2474141.ru is bad\n",
      "https://r11.rosinv.ru is bad\n",
      "https://spb.domgektar.ru/dnp-putilovskie-prostory is bad\n",
      "https://spetsstroi.ru/goods/mcensk-ul-mashinostroiteley-17-1 is bad\n",
      "https://apartment.ru is bad\n",
      "https://moriv.ru/village/lukomorje is bad\n",
      "https://lomonosov.mymetr.ru is bad\n",
      "https://inter-polymer-stroy.ru is bad\n",
      "https://n-market.pro is bad\n",
      "https://istlandestate.ru is bad\n",
      "https://okazem.ru is bad\n",
      "https://sk-don.ru is bad\n",
      "https://polakra.ru is bad\n"
     ]
    }
   ],
   "source": [
    "from multiprocessing import Pool\n",
    "\n",
    "# This thing is pretty fast\n",
    "# change processes if u have more than 8 threads (do i have more?)\n",
    "# TODO: find out if I have thread doubling thing i use amd\n",
    "\n",
    "with Pool(processes=6) as mp_pool:\n",
    "    results = mp_pool.map(url_checker, processed_domains)"
   ]
  },
  {
   "cell_type": "code",
   "execution_count": 14,
   "metadata": {},
   "outputs": [
    {
     "data": {
      "text/plain": [
       "245"
      ]
     },
     "execution_count": 14,
     "metadata": {},
     "output_type": "execute_result"
    }
   ],
   "source": [
    "processed_domains = np.unique(results)[1:]\n",
    "len(processed_domains)"
   ]
  },
  {
   "attachments": {},
   "cell_type": "markdown",
   "metadata": {},
   "source": [
    "THE END"
   ]
  },
  {
   "cell_type": "code",
   "execution_count": 16,
   "metadata": {},
   "outputs": [
    {
     "data": {
      "text/plain": [
       "0                  https://1470umto.ru\n",
       "1                    https://23city.ru\n",
       "2                 https://abc-sklad.ru\n",
       "3                 https://absrealty.ru\n",
       "4    https://aeroflotovec-2.landorg.ru\n",
       "dtype: object"
      ]
     },
     "execution_count": 16,
     "metadata": {},
     "output_type": "execute_result"
    }
   ],
   "source": [
    "ready_domains = pd.Series(processed_domains)\n",
    "ready_domains[:5]"
   ]
  },
  {
   "cell_type": "code",
   "execution_count": 17,
   "metadata": {},
   "outputs": [],
   "source": [
    "ready_domains.to_csv('ready_domains.csv', index=False)"
   ]
  },
  {
   "cell_type": "code",
   "execution_count": null,
   "metadata": {},
   "outputs": [],
   "source": []
  }
 ],
 "metadata": {
  "kernelspec": {
   "display_name": "Python 3",
   "language": "python",
   "name": "python3"
  },
  "language_info": {
   "codemirror_mode": {
    "name": "ipython",
    "version": 3
   },
   "file_extension": ".py",
   "mimetype": "text/x-python",
   "name": "python",
   "nbconvert_exporter": "python",
   "pygments_lexer": "ipython3",
   "version": "3.10.9"
  },
  "orig_nbformat": 4,
  "vscode": {
   "interpreter": {
    "hash": "e7370f93d1d0cde622a1f8e1c04877d8463912d04d973331ad4851f04de6915a"
   }
  }
 },
 "nbformat": 4,
 "nbformat_minor": 2
}
