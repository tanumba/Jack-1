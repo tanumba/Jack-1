{
 "cells": [
  {
   "attachments": {},
   "cell_type": "markdown",
   "metadata": {},
   "source": [
    "THIS IS TEST\n",
    "DO NOT CONDEMN\n",
    "just tried to preprocess data"
   ]
  },
  {
   "cell_type": "code",
   "execution_count": 1,
   "metadata": {},
   "outputs": [],
   "source": [
    "import pandas as pd\n",
    "import numpy as np\n",
    "import seaborn as sns"
   ]
  },
  {
   "cell_type": "code",
   "execution_count": 2,
   "metadata": {},
   "outputs": [
    {
     "data": {
      "text/html": [
       "<div>\n",
       "<style scoped>\n",
       "    .dataframe tbody tr th:only-of-type {\n",
       "        vertical-align: middle;\n",
       "    }\n",
       "\n",
       "    .dataframe tbody tr th {\n",
       "        vertical-align: top;\n",
       "    }\n",
       "\n",
       "    .dataframe thead th {\n",
       "        text-align: right;\n",
       "    }\n",
       "</style>\n",
       "<table border=\"1\" class=\"dataframe\">\n",
       "  <thead>\n",
       "    <tr style=\"text-align: right;\">\n",
       "      <th></th>\n",
       "      <th>domain</th>\n",
       "    </tr>\n",
       "  </thead>\n",
       "  <tbody>\n",
       "    <tr>\n",
       "      <th>0</th>\n",
       "      <td>vk.com/public174839173</td>\n",
       "    </tr>\n",
       "    <tr>\n",
       "      <th>1</th>\n",
       "      <td>t.me/tweed_realtyy</td>\n",
       "    </tr>\n",
       "    <tr>\n",
       "      <th>2</th>\n",
       "      <td>instagram.com/tweedrealty</td>\n",
       "    </tr>\n",
       "    <tr>\n",
       "      <th>3</th>\n",
       "      <td>twitter.com/tweedru</td>\n",
       "    </tr>\n",
       "    <tr>\n",
       "      <th>4</th>\n",
       "      <td>youtube.com/channel/uca1z9uco37tm_yp9fi49rfq</td>\n",
       "    </tr>\n",
       "    <tr>\n",
       "      <th>5</th>\n",
       "      <td>tweed.ru</td>\n",
       "    </tr>\n",
       "    <tr>\n",
       "      <th>6</th>\n",
       "      <td>facebook.com/tweed.ru</td>\n",
       "    </tr>\n",
       "    <tr>\n",
       "      <th>7</th>\n",
       "      <td>vk.com/tweed_realty</td>\n",
       "    </tr>\n",
       "    <tr>\n",
       "      <th>8</th>\n",
       "      <td>pskovzhilstroi.ru</td>\n",
       "    </tr>\n",
       "    <tr>\n",
       "      <th>9</th>\n",
       "      <td>vk.com/domapskov</td>\n",
       "    </tr>\n",
       "    <tr>\n",
       "      <th>10</th>\n",
       "      <td>youtube.com/channel/ucikgdrgnnh68rzrmbbes2vq</td>\n",
       "    </tr>\n",
       "    <tr>\n",
       "      <th>11</th>\n",
       "      <td>instagram.com/pskovzhilstroi</td>\n",
       "    </tr>\n",
       "    <tr>\n",
       "      <th>12</th>\n",
       "      <td>dogovor25.ru</td>\n",
       "    </tr>\n",
       "    <tr>\n",
       "      <th>13</th>\n",
       "      <td>instagram.com/tierra_moscow</td>\n",
       "    </tr>\n",
       "    <tr>\n",
       "      <th>14</th>\n",
       "      <td>tg77.ru</td>\n",
       "    </tr>\n",
       "    <tr>\n",
       "      <th>15</th>\n",
       "      <td>youtube.com/channel/uctfgf6tqejr6-s0uw29mlsa</td>\n",
       "    </tr>\n",
       "    <tr>\n",
       "      <th>16</th>\n",
       "      <td>%D0%BD%D0%B8%D0%B6%D0%BD%D0%B5%D0%BA%D0%B0%D0%...</td>\n",
       "    </tr>\n",
       "    <tr>\n",
       "      <th>17</th>\n",
       "      <td>capital-rf.com</td>\n",
       "    </tr>\n",
       "    <tr>\n",
       "      <th>18</th>\n",
       "      <td>facebook.com/%D0%B3%D0%BA-%D0%BA%D0%B0%D0%BF%D...</td>\n",
       "    </tr>\n",
       "    <tr>\n",
       "      <th>19</th>\n",
       "      <td>c-j.ru</td>\n",
       "    </tr>\n",
       "  </tbody>\n",
       "</table>\n",
       "</div>"
      ],
      "text/plain": [
       "                                               domain\n",
       "0                              vk.com/public174839173\n",
       "1                                  t.me/tweed_realtyy\n",
       "2                           instagram.com/tweedrealty\n",
       "3                                 twitter.com/tweedru\n",
       "4        youtube.com/channel/uca1z9uco37tm_yp9fi49rfq\n",
       "5                                            tweed.ru\n",
       "6                               facebook.com/tweed.ru\n",
       "7                                 vk.com/tweed_realty\n",
       "8                                   pskovzhilstroi.ru\n",
       "9                                    vk.com/domapskov\n",
       "10       youtube.com/channel/ucikgdrgnnh68rzrmbbes2vq\n",
       "11                       instagram.com/pskovzhilstroi\n",
       "12                                       dogovor25.ru\n",
       "13                        instagram.com/tierra_moscow\n",
       "14                                            tg77.ru\n",
       "15       youtube.com/channel/uctfgf6tqejr6-s0uw29mlsa\n",
       "16  %D0%BD%D0%B8%D0%B6%D0%BD%D0%B5%D0%BA%D0%B0%D0%...\n",
       "17                                     capital-rf.com\n",
       "18  facebook.com/%D0%B3%D0%BA-%D0%BA%D0%B0%D0%BF%D...\n",
       "19                                             c-j.ru"
      ]
     },
     "execution_count": 2,
     "metadata": {},
     "output_type": "execute_result"
    }
   ],
   "source": [
    "domains_df = pd.read_csv('/home/ostgot/Desktop/research/BIG_data/graph_thing/real_estate_domains.tsv', sep=('\\t'))\n",
    "domains_df.head(20)"
   ]
  },
  {
   "attachments": {},
   "cell_type": "markdown",
   "metadata": {},
   "source": [
    "Test sample is a sample of 1000 random urls from dataframe"
   ]
  },
  {
   "cell_type": "code",
   "execution_count": 3,
   "metadata": {},
   "outputs": [
    {
     "data": {
      "text/plain": [
       "66004                                   textilgrad.ru\n",
       "47113                instagram.com/dubai_nedvizhimost\n",
       "36112    youtube.com/channel/ucnmcb14zakowfg5nosqlqxa\n",
       "43752                        vk.com/usadba_v_irinovke\n",
       "27093                                      3101310.ru\n",
       "Name: domain, dtype: object"
      ]
     },
     "execution_count": 3,
     "metadata": {},
     "output_type": "execute_result"
    }
   ],
   "source": [
    "test_domains = domains_df.sample(1000).domain\n",
    "test_domains[:5]"
   ]
  },
  {
   "cell_type": "code",
   "execution_count": 4,
   "metadata": {},
   "outputs": [
    {
     "data": {
      "text/plain": [
       "964"
      ]
     },
     "execution_count": 4,
     "metadata": {},
     "output_type": "execute_result"
    }
   ],
   "source": [
    "test_domains.nunique()"
   ]
  },
  {
   "cell_type": "code",
   "execution_count": 6,
   "metadata": {},
   "outputs": [],
   "source": [
    "# based on hand search :)\n",
    "bad_starts = 'instagram facebook linkedin twitter youtube vk t wa ok viber plus'.split()"
   ]
  },
  {
   "cell_type": "code",
   "execution_count": 8,
   "metadata": {},
   "outputs": [
    {
     "name": "stdout",
     "output_type": "stream",
     "text": [
      "424\n"
     ]
    }
   ],
   "source": [
    "def check_if_needless(url):\n",
    "    start = url.split('.')[0]\n",
    "    if start in bad_starts or '%' in start:\n",
    "        return None\n",
    "    else:\n",
    "        return url\n",
    "\n",
    "# TODO: multiprocess it\n",
    "processed_domains = test_domains.apply(check_if_needless).dropna()\n",
    "print(processed_domains.nunique())\n",
    "processed_domains.to_csv('processed_domains.csv')"
   ]
  },
  {
   "cell_type": "code",
   "execution_count": 9,
   "metadata": {},
   "outputs": [],
   "source": [
    "import requests\n",
    "\n",
    "def url_checker(url):\n",
    "    try:\n",
    "        url = 'https://'+url\n",
    "        get = requests.get(url)\n",
    "        if get.status_code == 200:\n",
    "            return url\n",
    "        else: \n",
    "            return ''\n",
    "    except:\n",
    "        # TODO: print exception type, it might help with analyzing\n",
    "        print(url + ' is bad')\n",
    "        return ''"
   ]
  },
  {
   "cell_type": "code",
   "execution_count": 12,
   "metadata": {},
   "outputs": [
    {
     "name": "stdout",
     "output_type": "stream",
     "text": [
      "https://sfo.rosinv.ru is bad\n",
      "https://vsicapital.ru/parametry-ob_ekta is badhttps://kizlyar-gorod-stroj.ru is bad\n",
      "https://artcity-spb.ru is bad\n",
      "https://klassika76.ru is bad\n",
      "\n",
      "https://gornaya-panorama.ru is badhttps://matreshkin-dvor.mymetr.ru is bad\n",
      "https://balturservis.ru/projects/dom-na-ulitse-ogatyrskoy is bad\n",
      "\n",
      "https://tsf71.ru/prodazha_kvartir is bad\n",
      "https://riointeh.com is bad\n",
      "https://textilgrad.ru is badhttps://tekekb.ru is badhttps://up.spb.ru/pushkinsky is badhttps://zapadbastion.ru is bad\n",
      "\n",
      "\n",
      "https://pro-object.ru is badhttps://petrovskaya-rivera.mfcn78.ru is badhttps://aitax.ru is bad\n",
      "\n",
      "\n",
      "https://beregmoscow.ru/about is badhttps://pn.ru is badhttps://setlgroup.ru/projects/filosofiya is bad\n",
      "\n",
      "https://dobryygorod.ru is badhttps://sv-kvartira.ru is badhttps://bkl.ru is badhttps://sk-ips.ru/realty/apartments/leningradskoe-trio is bad\n",
      "https://otdoxnu.ru is badhttps://idrieltor.ru is bad\n",
      "\n",
      "https://kp-arkadia.ru is bad\n",
      "\n",
      "\n",
      "https://aidar.su is bad\n",
      "https://ammis.ru is bad\n",
      "https://aniskino.orgstroyinvest.ru is badhttps://aurora-stroy.ru/proekty/zhilishhnyj-kompleks-safonova is badhttps://3101310.ru is badhttps://93regionstroy.ru is bad\n",
      "https://my-adres.ru is badhttps://48.kadastr.ru is bad\n",
      "https://zhkneptun.ru is bad\n",
      "https://divesdevelopment.ru/share_building is bad\n",
      "\n",
      "\n",
      "\n",
      "https://oji21.ru is bad\n",
      "\n",
      "\n",
      "\n",
      "https://vobti.ru is badhttps://edinstvo62.ru is badhttps://method-sk.ru/projects/house-snezhinsk.html is badhttps://murino2019.com/objects/murino_2019 is bad\n",
      "https://zapovednii-bor.ru is bad\n",
      "\n",
      "\n",
      "https://spbrealty.ru is badhttps://landyshi.mfcn78.ru is bad\n",
      "\n",
      "\n",
      "https://ssin.ru is badhttps://sistema-treid.ru is badhttps://romex.su is bad\n",
      "\n",
      "\n",
      "\n",
      "https://gtgr.ru is badhttps://terracadastre.ru is bad\n",
      "https://setlgroup.ru/projects/moreokean is bad\n",
      "https://psk-zevs.ru is bad\n",
      "\n",
      "https://edinstvo62.ru is bad\n",
      "https://mkguber.ru is badhttps://rodzem.ru/zemelnie-uchastki/zavershennye-proekty/stepankovskie-dachi is badhttps://blagodatovo74.ru is bad\n",
      "https://5066775.ru/zhemchuzhnyi is bad\n",
      "\n",
      "https://jbi3-stroy.ru is badhttps://arrpro.ru is badhttps://r69.rosinv.ru is bad\n",
      "\n",
      "\n",
      "\n",
      "https://fortops.ru is bad\n",
      "https://realrent34.ru is bad\n",
      "https://gorem-3.ru is badhttps://ok2.naholmah.ru is bad\n",
      "\n",
      "https://leto-home.ru is bad\n",
      "https://ongcvidesh.in is bad\n",
      "https://domostroy-kirov.ru is bad\n",
      "https://prokcorp.ru is bad\n",
      "https://aq-anapa.ru is bad\n",
      "https://busines-invest.ru/documents is badhttps://vertikal-invest.ru/obekty/zhiloy-kompleks-garmoniya is bad\n",
      "\n",
      "https://domsbs.ru is bad\n",
      "https://tend1.ru is bad\n",
      "https://klimovsk-oblik.ru is bad\n",
      "https://sinaps-auto.ru is bad\n",
      "https://mil.ru is bad\n",
      "https://nedvizhimost-krasnogoskyi-raion.vsesvoi.org is bad\n",
      "https://nedvizhimost.vsesvoi.org is bad\n",
      "https://klubnika.spb.ru is badhttps://you-me.ru is bad\n",
      "\n",
      "https://ooopino.ru is bad\n",
      "https://stroim35.ru/goncharnaya-sheksninskaya-14 is bad\n",
      "https://belyi-gorod.ru is bad\n",
      "https://zemlya-kyrganovo.ru is bad\n",
      "https://red220.ru is bad\n",
      "https://region47.sbor.net is badhttps://3110505.ru is bad\n",
      "\n",
      "https://spectr12.ru/build/53-stroitelstvo-zhilogo-doma-v-yoshkar-ole-na-ulice-shumeleva.html is bad\n",
      "https://vgstroy.ru/objects.html?itemid=4 is bad\n",
      "https://nbrealty.ru is bad\n",
      "https://happy-dom.ru is bad\n",
      "https://promstroisentr.ru is bad\n",
      "https://rost-bti.ru is bad\n",
      "https://univermagufa.ru is bad\n",
      "https://piter-center.ru is bad\n",
      "https://expertadres.ru is bad\n",
      "https://pan.pfpg.ru is bad\n",
      "https://anavangard.ru is bad\n",
      "https://3110505.ru is bad\n",
      "https://increza.ru/seller/630/catalog is bad\n",
      "https://miard.ru is bad\n",
      "https://knyaz-bereg.ru is bad\n",
      "https://9262623.ru is bad\n",
      "https://oao-penzastroy.ru/projects/lukomore is bad\n",
      "https://zemlya44.ru is bad\n",
      "https://perelesie.ru is bad\n",
      "https://green-park.city is bad\n",
      "https://oao-integral.ru is bad\n",
      "https://pn.ru is bad\n",
      "https://zhasko.ru is bad\n",
      "https://sz.stroyresurs126.ru is bad\n",
      "https://forward32.ru/complex/1/5 is bad\n",
      "https://inparkserp.ru is bad\n",
      "https://r07.rosinv.ru is bad\n",
      "https://sk-35.ru/proektyi/realizuemyie/g.-vologda/mnogokvartirnyij-zhiloj-dom-po-ul.-gagarina is bad\n",
      "https://fortisgroup.ru is bad\n",
      "https://kempolovo.ru is bad\n",
      "https://zhcom.ru is bad\n",
      "https://krepostnoy100.ru/about is badhttps://vobti.ru is badhttps://novostroyki-mo.ru/povarovo.php is bad\n",
      "\n",
      "\n",
      "https://newkislovodsk.ru is badhttps://klyuchoryol.jj2.ru is bad\n",
      "https://centrstroy.ru/objects/g-reutov-mikrorayon-8-yubileynyy-prospekt.php is bad\n",
      "\n",
      "https://msk-krasnodar.ru/m/products/sovremennik is bad\n",
      "https://karelia.ru is bad\n",
      "https://st-chaz.ru/projects/pozitsiya-31.html is bad\n",
      "https://clk.dokon.biz is bad\n",
      "https://ammis.ru is bad\n",
      "https://snt-zio3.ru is bad\n",
      "https://develius-estate.ru is bad\n",
      "https://arendmir.ru is bad\n",
      "https://ooo-resultat.ru/dom-na-polevoj is bad\n",
      "https://100kvadratov.com is bad\n",
      "https://bti76.ru is bad\n",
      "https://hm-d.ru is bad\n",
      "https://modernspb.com is bad\n",
      "https://frgs.online/proekty/novokuznetsk/zhk-1-novokuznetsk is bad\n",
      "https://spbsputnik.com is bad\n",
      "https://vereck.ru is bad\n",
      "https://rivieranovogorsk.ru is bad\n",
      "https://ww.facebook.com/bion-online-295871797713444 is bad\n",
      "https://zenitkb.ru is bad\n",
      "https://primevilla.ru is badhttps://su155.ru/real_estate/objects/moscow_region/unit_212051/?obj_type=1 is bad\n",
      "\n",
      "https://sb-mik.ru is badhttps://widget.bookform.ru/5202 is badhttps://umiat.novsk.ru is bad\n",
      "\n",
      "\n"
     ]
    }
   ],
   "source": [
    "from multiprocessing import Pool\n",
    "\n",
    "# This thing is pretty fast\n",
    "with Pool(processes=32) as mp_pool:\n",
    "    results = mp_pool.map(url_checker, processed_domains)"
   ]
  },
  {
   "cell_type": "code",
   "execution_count": 14,
   "metadata": {},
   "outputs": [
    {
     "data": {
      "text/plain": [
       "245"
      ]
     },
     "execution_count": 14,
     "metadata": {},
     "output_type": "execute_result"
    }
   ],
   "source": [
    "processed_domains = np.unique(results)[1:]\n",
    "len(processed_domains)"
   ]
  },
  {
   "attachments": {},
   "cell_type": "markdown",
   "metadata": {},
   "source": [
    "THE END"
   ]
  },
  {
   "cell_type": "code",
   "execution_count": 16,
   "metadata": {},
   "outputs": [
    {
     "data": {
      "text/plain": [
       "0                  https://1470umto.ru\n",
       "1                    https://23city.ru\n",
       "2                 https://abc-sklad.ru\n",
       "3                 https://absrealty.ru\n",
       "4    https://aeroflotovec-2.landorg.ru\n",
       "dtype: object"
      ]
     },
     "execution_count": 16,
     "metadata": {},
     "output_type": "execute_result"
    }
   ],
   "source": [
    "ready_domains = pd.Series(processed_domains)\n",
    "ready_domains[:5]"
   ]
  },
  {
   "cell_type": "code",
   "execution_count": 17,
   "metadata": {},
   "outputs": [],
   "source": [
    "ready_domains.to_csv('ready_domains.csv', index=False)"
   ]
  },
  {
   "cell_type": "code",
   "execution_count": null,
   "metadata": {},
   "outputs": [],
   "source": []
  }
 ],
 "metadata": {
  "kernelspec": {
   "display_name": "Python 3",
   "language": "python",
   "name": "python3"
  },
  "language_info": {
   "codemirror_mode": {
    "name": "ipython",
    "version": 3
   },
   "file_extension": ".py",
   "mimetype": "text/x-python",
   "name": "python",
   "nbconvert_exporter": "python",
   "pygments_lexer": "ipython3",
   "version": "3.10.9"
  },
  "orig_nbformat": 4,
  "vscode": {
   "interpreter": {
    "hash": "e7370f93d1d0cde622a1f8e1c04877d8463912d04d973331ad4851f04de6915a"
   }
  }
 },
 "nbformat": 4,
 "nbformat_minor": 2
}
