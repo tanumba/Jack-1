{
  "cells": [
    {
      "cell_type": "code",
      "execution_count": null,
      "metadata": {
        "id": "igQY3tzptUt_"
      },
      "outputs": [],
      "source": [
        "import pandas as pd\n",
        "import numpy as np\n",
        "import seaborn as sns"
      ]
    },
    {
      "cell_type": "code",
      "execution_count": null,
      "metadata": {
        "colab": {
          "base_uri": "https://localhost:8080/",
          "height": 676
        },
        "id": "9-CqUP3ptUuA",
        "outputId": "cc33b1b9-2724-4f86-b84f-5e7e037620f1"
      },
      "outputs": [
        {
          "output_type": "execute_result",
          "data": {
            "text/plain": [
              "                                               domain\n",
              "0                              vk.com/public174839173\n",
              "1                                  t.me/tweed_realtyy\n",
              "2                           instagram.com/tweedrealty\n",
              "3                                 twitter.com/tweedru\n",
              "4        youtube.com/channel/uca1z9uco37tm_yp9fi49rfq\n",
              "5                                            tweed.ru\n",
              "6                               facebook.com/tweed.ru\n",
              "7                                 vk.com/tweed_realty\n",
              "8                                   pskovzhilstroi.ru\n",
              "9                                    vk.com/domapskov\n",
              "10       youtube.com/channel/ucikgdrgnnh68rzrmbbes2vq\n",
              "11                       instagram.com/pskovzhilstroi\n",
              "12                                       dogovor25.ru\n",
              "13                        instagram.com/tierra_moscow\n",
              "14                                            tg77.ru\n",
              "15       youtube.com/channel/uctfgf6tqejr6-s0uw29mlsa\n",
              "16  %D0%BD%D0%B8%D0%B6%D0%BD%D0%B5%D0%BA%D0%B0%D0%...\n",
              "17                                     capital-rf.com\n",
              "18  facebook.com/%D0%B3%D0%BA-%D0%BA%D0%B0%D0%BF%D...\n",
              "19                                             c-j.ru"
            ],
            "text/html": [
              "\n",
              "  <div id=\"df-7e8ee951-664d-4930-9e1f-d8dd6b324bb5\">\n",
              "    <div class=\"colab-df-container\">\n",
              "      <div>\n",
              "<style scoped>\n",
              "    .dataframe tbody tr th:only-of-type {\n",
              "        vertical-align: middle;\n",
              "    }\n",
              "\n",
              "    .dataframe tbody tr th {\n",
              "        vertical-align: top;\n",
              "    }\n",
              "\n",
              "    .dataframe thead th {\n",
              "        text-align: right;\n",
              "    }\n",
              "</style>\n",
              "<table border=\"1\" class=\"dataframe\">\n",
              "  <thead>\n",
              "    <tr style=\"text-align: right;\">\n",
              "      <th></th>\n",
              "      <th>domain</th>\n",
              "    </tr>\n",
              "  </thead>\n",
              "  <tbody>\n",
              "    <tr>\n",
              "      <th>0</th>\n",
              "      <td>vk.com/public174839173</td>\n",
              "    </tr>\n",
              "    <tr>\n",
              "      <th>1</th>\n",
              "      <td>t.me/tweed_realtyy</td>\n",
              "    </tr>\n",
              "    <tr>\n",
              "      <th>2</th>\n",
              "      <td>instagram.com/tweedrealty</td>\n",
              "    </tr>\n",
              "    <tr>\n",
              "      <th>3</th>\n",
              "      <td>twitter.com/tweedru</td>\n",
              "    </tr>\n",
              "    <tr>\n",
              "      <th>4</th>\n",
              "      <td>youtube.com/channel/uca1z9uco37tm_yp9fi49rfq</td>\n",
              "    </tr>\n",
              "    <tr>\n",
              "      <th>5</th>\n",
              "      <td>tweed.ru</td>\n",
              "    </tr>\n",
              "    <tr>\n",
              "      <th>6</th>\n",
              "      <td>facebook.com/tweed.ru</td>\n",
              "    </tr>\n",
              "    <tr>\n",
              "      <th>7</th>\n",
              "      <td>vk.com/tweed_realty</td>\n",
              "    </tr>\n",
              "    <tr>\n",
              "      <th>8</th>\n",
              "      <td>pskovzhilstroi.ru</td>\n",
              "    </tr>\n",
              "    <tr>\n",
              "      <th>9</th>\n",
              "      <td>vk.com/domapskov</td>\n",
              "    </tr>\n",
              "    <tr>\n",
              "      <th>10</th>\n",
              "      <td>youtube.com/channel/ucikgdrgnnh68rzrmbbes2vq</td>\n",
              "    </tr>\n",
              "    <tr>\n",
              "      <th>11</th>\n",
              "      <td>instagram.com/pskovzhilstroi</td>\n",
              "    </tr>\n",
              "    <tr>\n",
              "      <th>12</th>\n",
              "      <td>dogovor25.ru</td>\n",
              "    </tr>\n",
              "    <tr>\n",
              "      <th>13</th>\n",
              "      <td>instagram.com/tierra_moscow</td>\n",
              "    </tr>\n",
              "    <tr>\n",
              "      <th>14</th>\n",
              "      <td>tg77.ru</td>\n",
              "    </tr>\n",
              "    <tr>\n",
              "      <th>15</th>\n",
              "      <td>youtube.com/channel/uctfgf6tqejr6-s0uw29mlsa</td>\n",
              "    </tr>\n",
              "    <tr>\n",
              "      <th>16</th>\n",
              "      <td>%D0%BD%D0%B8%D0%B6%D0%BD%D0%B5%D0%BA%D0%B0%D0%...</td>\n",
              "    </tr>\n",
              "    <tr>\n",
              "      <th>17</th>\n",
              "      <td>capital-rf.com</td>\n",
              "    </tr>\n",
              "    <tr>\n",
              "      <th>18</th>\n",
              "      <td>facebook.com/%D0%B3%D0%BA-%D0%BA%D0%B0%D0%BF%D...</td>\n",
              "    </tr>\n",
              "    <tr>\n",
              "      <th>19</th>\n",
              "      <td>c-j.ru</td>\n",
              "    </tr>\n",
              "  </tbody>\n",
              "</table>\n",
              "</div>\n",
              "      <button class=\"colab-df-convert\" onclick=\"convertToInteractive('df-7e8ee951-664d-4930-9e1f-d8dd6b324bb5')\"\n",
              "              title=\"Convert this dataframe to an interactive table.\"\n",
              "              style=\"display:none;\">\n",
              "        \n",
              "  <svg xmlns=\"http://www.w3.org/2000/svg\" height=\"24px\"viewBox=\"0 0 24 24\"\n",
              "       width=\"24px\">\n",
              "    <path d=\"M0 0h24v24H0V0z\" fill=\"none\"/>\n",
              "    <path d=\"M18.56 5.44l.94 2.06.94-2.06 2.06-.94-2.06-.94-.94-2.06-.94 2.06-2.06.94zm-11 1L8.5 8.5l.94-2.06 2.06-.94-2.06-.94L8.5 2.5l-.94 2.06-2.06.94zm10 10l.94 2.06.94-2.06 2.06-.94-2.06-.94-.94-2.06-.94 2.06-2.06.94z\"/><path d=\"M17.41 7.96l-1.37-1.37c-.4-.4-.92-.59-1.43-.59-.52 0-1.04.2-1.43.59L10.3 9.45l-7.72 7.72c-.78.78-.78 2.05 0 2.83L4 21.41c.39.39.9.59 1.41.59.51 0 1.02-.2 1.41-.59l7.78-7.78 2.81-2.81c.8-.78.8-2.07 0-2.86zM5.41 20L4 18.59l7.72-7.72 1.47 1.35L5.41 20z\"/>\n",
              "  </svg>\n",
              "      </button>\n",
              "      \n",
              "  <style>\n",
              "    .colab-df-container {\n",
              "      display:flex;\n",
              "      flex-wrap:wrap;\n",
              "      gap: 12px;\n",
              "    }\n",
              "\n",
              "    .colab-df-convert {\n",
              "      background-color: #E8F0FE;\n",
              "      border: none;\n",
              "      border-radius: 50%;\n",
              "      cursor: pointer;\n",
              "      display: none;\n",
              "      fill: #1967D2;\n",
              "      height: 32px;\n",
              "      padding: 0 0 0 0;\n",
              "      width: 32px;\n",
              "    }\n",
              "\n",
              "    .colab-df-convert:hover {\n",
              "      background-color: #E2EBFA;\n",
              "      box-shadow: 0px 1px 2px rgba(60, 64, 67, 0.3), 0px 1px 3px 1px rgba(60, 64, 67, 0.15);\n",
              "      fill: #174EA6;\n",
              "    }\n",
              "\n",
              "    [theme=dark] .colab-df-convert {\n",
              "      background-color: #3B4455;\n",
              "      fill: #D2E3FC;\n",
              "    }\n",
              "\n",
              "    [theme=dark] .colab-df-convert:hover {\n",
              "      background-color: #434B5C;\n",
              "      box-shadow: 0px 1px 3px 1px rgba(0, 0, 0, 0.15);\n",
              "      filter: drop-shadow(0px 1px 2px rgba(0, 0, 0, 0.3));\n",
              "      fill: #FFFFFF;\n",
              "    }\n",
              "  </style>\n",
              "\n",
              "      <script>\n",
              "        const buttonEl =\n",
              "          document.querySelector('#df-7e8ee951-664d-4930-9e1f-d8dd6b324bb5 button.colab-df-convert');\n",
              "        buttonEl.style.display =\n",
              "          google.colab.kernel.accessAllowed ? 'block' : 'none';\n",
              "\n",
              "        async function convertToInteractive(key) {\n",
              "          const element = document.querySelector('#df-7e8ee951-664d-4930-9e1f-d8dd6b324bb5');\n",
              "          const dataTable =\n",
              "            await google.colab.kernel.invokeFunction('convertToInteractive',\n",
              "                                                     [key], {});\n",
              "          if (!dataTable) return;\n",
              "\n",
              "          const docLinkHtml = 'Like what you see? Visit the ' +\n",
              "            '<a target=\"_blank\" href=https://colab.research.google.com/notebooks/data_table.ipynb>data table notebook</a>'\n",
              "            + ' to learn more about interactive tables.';\n",
              "          element.innerHTML = '';\n",
              "          dataTable['output_type'] = 'display_data';\n",
              "          await google.colab.output.renderOutput(dataTable, element);\n",
              "          const docLink = document.createElement('div');\n",
              "          docLink.innerHTML = docLinkHtml;\n",
              "          element.appendChild(docLink);\n",
              "        }\n",
              "      </script>\n",
              "    </div>\n",
              "  </div>\n",
              "  "
            ]
          },
          "metadata": {},
          "execution_count": 2
        }
      ],
      "source": [
        "domains_df = pd.read_csv('real_estate_domains.csv')\n",
        "domains_df.head(20)"
      ]
    },
    {
      "cell_type": "code",
      "execution_count": null,
      "metadata": {
        "id": "F2gdEBwbtUuC"
      },
      "outputs": [],
      "source": [
        "# based on hand search :)\n",
        "bad_starts = 'instagram facebook linkedin twitter youtube vk t wa ok viber plus zen'.split()"
      ]
    },
    {
      "cell_type": "code",
      "execution_count": null,
      "metadata": {
        "colab": {
          "base_uri": "https://localhost:8080/"
        },
        "id": "SQj-yIKbtUuC",
        "outputId": "7e0d19bc-b954-49f4-84ee-5a01b23d67d8"
      },
      "outputs": [
        {
          "output_type": "execute_result",
          "data": {
            "text/plain": [
              "5                                         https://tweed.ru\n",
              "8                                https://pskovzhilstroi.ru\n",
              "12                                    https://dogovor25.ru\n",
              "14                                         https://tg77.ru\n",
              "17                                  https://capital-rf.com\n",
              "                               ...                        \n",
              "78953                                 https://rest2rent.ru\n",
              "78958                                     https://cti33.ru\n",
              "78962                                 https://veligonty.ru\n",
              "78963                                   https://domkor.com\n",
              "78964    https://domkor-dom.com/prodazha-kvartir-novost...\n",
              "Length: 35836, dtype: object"
            ]
          },
          "metadata": {},
          "execution_count": 4
        }
      ],
      "source": [
        "def check_if_needless(url):\n",
        "    start = url[0].split('.')[0]\n",
        "    if start in bad_starts or '%' in start:\n",
        "        return None\n",
        "    else:\n",
        "        return 'https://' + url[0]\n",
        "\n",
        "# TODO: multiprocess it\n",
        "processed_domains = domains_df.apply(check_if_needless, axis=1).dropna()\n",
        "processed_domains"
      ]
    },
    {
      "cell_type": "code",
      "execution_count": null,
      "metadata": {
        "colab": {
          "base_uri": "https://localhost:8080/"
        },
        "id": "54ao2EaItUuD",
        "outputId": "955488e4-cbe3-46d4-a7a1-c9e9bc673b15"
      },
      "outputs": [
        {
          "output_type": "execute_result",
          "data": {
            "text/plain": [
              "17889"
            ]
          },
          "metadata": {},
          "execution_count": 5
        }
      ],
      "source": [
        "import re\n",
        "\n",
        "def extract_main_url(s):\n",
        "    m = re.search('https?://([A-Za-z_0-9.-]+).*', s)\n",
        "    if m:\n",
        "        return m.group(1)\n",
        "    \n",
        "processed_domains = processed_domains.apply(extract_main_url)\n",
        "processed_domains.nunique()"
      ]
    },
    {
      "cell_type": "code",
      "source": [
        "processed_domains"
      ],
      "metadata": {
        "colab": {
          "base_uri": "https://localhost:8080/"
        },
        "id": "6D_k0T9M8dxG",
        "outputId": "36be33ca-a26d-4965-8ecc-c08158686156"
      },
      "execution_count": null,
      "outputs": [
        {
          "output_type": "execute_result",
          "data": {
            "text/plain": [
              "5                 tweed.ru\n",
              "8        pskovzhilstroi.ru\n",
              "12            dogovor25.ru\n",
              "14                 tg77.ru\n",
              "17          capital-rf.com\n",
              "               ...        \n",
              "78953         rest2rent.ru\n",
              "78958             cti33.ru\n",
              "78962         veligonty.ru\n",
              "78963           domkor.com\n",
              "78964       domkor-dom.com\n",
              "Length: 35836, dtype: object"
            ]
          },
          "metadata": {},
          "execution_count": 6
        }
      ]
    },
    {
      "cell_type": "code",
      "execution_count": null,
      "metadata": {
        "id": "QNwxaKdwtUuD"
      },
      "outputs": [],
      "source": [
        "import requests\n",
        "from threading import Lock\n",
        "lock = Lock()\n",
        "good  = []\n",
        "badcount = 0\n",
        "def url_checker(url):\n",
        "    global  lock, good,  badcount\n",
        "    try:\n",
        "        get1 = requests.get('http://' + url)\n",
        "        if get1.status_code == 200:\n",
        "            res = 'http://' + url\n",
        "        else: \n",
        "            get2 = requests.get('https://' + url)\n",
        "            if get2.status_code == 200:\n",
        "                res = 'https://' + url\n",
        "            else:\n",
        "                res = ''\n",
        "    except:\n",
        "        res = ''\n",
        "    with lock:\n",
        "    #  print(res, len(good), badcount)\n",
        "    #if True:\n",
        "      if res == \"\":\n",
        "        badcount += 1\n",
        "      else:\n",
        "        good.append(res)\n",
        "      if (len(good) + badcount)%128 == 0:\n",
        "        print(len(good), badcount)\n",
        "    return res"
      ]
    },
    {
      "cell_type": "code",
      "execution_count": null,
      "metadata": {
        "id": "V5oZ09-JtUuE"
      },
      "outputs": [],
      "source": [
        "from concurrent.futures import ThreadPoolExecutor\n",
        "\n",
        "with ThreadPoolExecutor(1024) as executor:\n",
        "    results = executor.map(url_checker, processed_domains)\n",
        "\n",
        "%%time"
      ]
    },
    {
      "cell_type": "code",
      "execution_count": null,
      "metadata": {
        "id": "-4m6VJ4JtUuE"
      },
      "outputs": [],
      "source": [
        "with open(\"filter_domains.tsv\", \"w\") as my:\n",
        "    my.write('\\n'.join(list(set(good))))"
      ]
    }
  ],
  "metadata": {
    "kernelspec": {
      "display_name": "Python 3",
      "language": "python",
      "name": "python3"
    },
    "language_info": {
      "codemirror_mode": {
        "name": "ipython",
        "version": 3
      },
      "file_extension": ".py",
      "mimetype": "text/x-python",
      "name": "python",
      "nbconvert_exporter": "python",
      "pygments_lexer": "ipython3",
      "version": "3.10.9"
    },
    "orig_nbformat": 4,
    "vscode": {
      "interpreter": {
        "hash": "e7370f93d1d0cde622a1f8e1c04877d8463912d04d973331ad4851f04de6915a"
      }
    },
    "colab": {
      "provenance": []
    }
  },
  "nbformat": 4,
  "nbformat_minor": 0
}